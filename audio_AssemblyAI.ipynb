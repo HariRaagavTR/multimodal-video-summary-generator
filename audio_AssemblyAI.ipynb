{
  "nbformat": 4,
  "nbformat_minor": 0,
  "metadata": {
    "colab": {
      "name": "Capstone_audio.ipynb",
      "provenance": []
    },
    "kernelspec": {
      "name": "python3",
      "display_name": "Python 3"
    },
    "language_info": {
      "name": "python"
    }
  },
  "cells": [
    {
      "cell_type": "code",
      "source": [
        "#Assembly AI call"
      ],
      "metadata": {
        "id": "EOB_9D9xr7lE"
      },
      "execution_count": null,
      "outputs": []
    },
    {
      "cell_type": "code",
      "execution_count": null,
      "metadata": {
        "id": "8v-P8sm8qf9W"
      },
      "outputs": [],
      "source": [
        "import json\n",
        "import time\n",
        "import requests\n",
        "import logging\n",
        "from datetime import datetime\n",
        "logging.basicConfig(level=logging.INFO)\n",
        "\n",
        "\n",
        "API_KEY = 'aa66fa6ed0a74afaa43c7723a47fd191'"
      ]
    },
    {
      "cell_type": "code",
      "source": [
        "class AutoYouTubeTimestamp:\n",
        "    def __init__(self):\n",
        "        self.__endpoint_upload = 'https://api.assemblyai.com/v2/upload'\n",
        "        self.__endpoint_transcript = 'https://api.assemblyai.com/v2/transcript'\n",
        "        self.__headers_auth = {\n",
        "            'authorization': API_KEY\n",
        "        }\n",
        "        self.__headers = {\n",
        "            'authorization': API_KEY,\n",
        "            'content-type': 'application/json'\n",
        "        }\n",
        "        self.__chunk_size = 5242880\n",
        "\n",
        "    def __upload(self, filename: str) -> str:\n",
        "        def read_file(filename: str):\n",
        "            with open(filename, 'rb') as f:\n",
        "                while True:\n",
        "                    data = f.read(self.__chunk_size)\n",
        "                    if not data:\n",
        "                        break\n",
        "                    yield data\n",
        "\n",
        "        logging.info(f\"{datetime.now()} - Started uploading audio file...\")\n",
        "        upload_response = requests.post(\n",
        "            url=self.__endpoint_upload,\n",
        "            headers=self.__headers_auth,\n",
        "            data=read_file(filename)\n",
        "        )\n",
        "        logging.info(f\"{datetime.now()} - Audio file uploaded! URL = {upload_response.json()['upload_url']}\")\n",
        "        return upload_response.json()['upload_url']\n",
        "\n",
        "    def __transcribe(self, audio_url: str) -> str:\n",
        "        logging.info(f\"{datetime.now()} - Started transcribing audio file...\")\n",
        "        \n",
        "        transcript_response = requests.post(\n",
        "            url=self.__endpoint_transcript,\n",
        "            headers=self.__headers,\n",
        "            json={\n",
        "                'audio_url': audio_url,\n",
        "                'auto_chapters': True,\n",
        "                'auto_highlights': True\n",
        "            }\n",
        "        )\n",
        "        logging.info(f\"{datetime.now()} - Audio file transcribed! ID = {transcript_response.json()['id']}\")\n",
        "        return transcript_response.json()['id']\n",
        "\n",
        "    def __poll(self, transcript_id: str) -> None:\n",
        "        def get_response(transcript_id: str):\n",
        "            polling_endpoint = f\"{self.__endpoint_transcript}/{transcript_id}\"\n",
        "            polling_response = requests.get(\n",
        "                url=polling_endpoint,\n",
        "                headers=self.__headers\n",
        "            )\n",
        "            return polling_response\n",
        "\n",
        "        def save(transcript_id: str):\n",
        "            fname_transcript = f\"{transcript_id}.txt\"\n",
        "            fname_chapters = f\"{transcript_id}_chapters.json\"\n",
        "            fname_highlights = f\"{transcript_id}_highlights.json\"\n",
        "\n",
        "            with open(fname_transcript, 'w') as f:\n",
        "                f.write(polling_response.json()['text'])\n",
        "                logging.info(f\"{datetime.now()} - Transcript saved to {fname_transcript}\")\n",
        "\n",
        "            with open(fname_chapters, 'w') as f:\n",
        "                chapters = polling_response.json()['chapters']\n",
        "                json.dump(chapters, f, indent=4)\n",
        "                logging.info(f\"{datetime.now()} - Transcript chapters saved to {fname_chapters}\")\n",
        "                \n",
        "            with open(fname_highlights, 'w') as f:\n",
        "                highlights = polling_response.json()['auto_highlights_result']\n",
        "                json.dump(highlights, f, indent=4)\n",
        "                logging.info(f\"{datetime.now()} - Transcript highlights saved to {fname_highlights}\")\n",
        "\n",
        "            logging.info(f\"{datetime.now()} - All files saved successfully\")\n",
        "\n",
        "        finished = False\n",
        "        while not finished:\n",
        "            polling_response = get_response(transcript_id=transcript_id)\n",
        "            if polling_response.json()['status'] == 'completed':\n",
        "                save(transcript_id=transcript_id)\n",
        "                finished = True\n",
        "            else:\n",
        "                logging.warning(f\"{datetime.now()} - Transcribing still in progress - Trying again in 30 seconds.\")\n",
        "                time.sleep(30)\n",
        "      \n",
        "    def run(self, filename: str) -> None:\n",
        "        audio_url = self.__upload(filename)\n",
        "        transcribe_id = self.__transcribe(audio_url)\n",
        "        self.__poll(transcribe_id)"
      ],
      "metadata": {
        "id": "hs9jNPmFqy3E"
      },
      "execution_count": null,
      "outputs": []
    },
    {
      "cell_type": "code",
      "source": [
        "ats = AutoYouTubeTimestamp()\n",
        "ats.run('/content/L12.mp3')"
      ],
      "metadata": {
        "colab": {
          "base_uri": "https://localhost:8080/"
        },
        "id": "aoQdx3pGrTJo",
        "outputId": "40f94bf1-e4bc-497a-87f1-9ba2c5d167b1"
      },
      "execution_count": null,
      "outputs": [
        {
          "output_type": "stream",
          "name": "stderr",
          "text": [
            "INFO:root:2022-08-06 06:21:43.570373 - Started uploading audio file...\n",
            "INFO:root:2022-08-06 06:21:44.026821 - Audio file uploaded! URL = https://cdn.assemblyai.com/upload/5b4f263f-10dd-48dc-97df-919920034e3e\n",
            "INFO:root:2022-08-06 06:21:44.030183 - Started transcribing audio file...\n",
            "INFO:root:2022-08-06 06:21:44.301082 - Audio file transcribed! ID = omuuzsy40k-f440-4331-9987-2c96daeb0465\n",
            "WARNING:root:2022-08-06 06:21:44.456694 - Transcribing still in progress - Trying again in 30 seconds.\n",
            "WARNING:root:2022-08-06 06:22:14.653632 - Transcribing still in progress - Trying again in 30 seconds.\n",
            "WARNING:root:2022-08-06 06:22:44.888959 - Transcribing still in progress - Trying again in 30 seconds.\n",
            "WARNING:root:2022-08-06 06:23:15.128633 - Transcribing still in progress - Trying again in 30 seconds.\n",
            "WARNING:root:2022-08-06 06:23:45.359908 - Transcribing still in progress - Trying again in 30 seconds.\n",
            "WARNING:root:2022-08-06 06:24:15.552302 - Transcribing still in progress - Trying again in 30 seconds.\n",
            "WARNING:root:2022-08-06 06:24:45.787589 - Transcribing still in progress - Trying again in 30 seconds.\n",
            "WARNING:root:2022-08-06 06:25:15.997145 - Transcribing still in progress - Trying again in 30 seconds.\n",
            "WARNING:root:2022-08-06 06:25:46.211675 - Transcribing still in progress - Trying again in 30 seconds.\n",
            "WARNING:root:2022-08-06 06:26:16.398698 - Transcribing still in progress - Trying again in 30 seconds.\n",
            "WARNING:root:2022-08-06 06:26:46.585428 - Transcribing still in progress - Trying again in 30 seconds.\n",
            "WARNING:root:2022-08-06 06:27:16.859864 - Transcribing still in progress - Trying again in 30 seconds.\n",
            "INFO:root:2022-08-06 06:27:47.629388 - Transcript saved to omuuzsy40k-f440-4331-9987-2c96daeb0465.txt\n",
            "INFO:root:2022-08-06 06:27:47.654201 - Transcript chapters saved to omuuzsy40k-f440-4331-9987-2c96daeb0465_chapters.json\n",
            "INFO:root:2022-08-06 06:27:47.675918 - Transcript highlights saved to omuuzsy40k-f440-4331-9987-2c96daeb0465_highlights.json\n",
            "INFO:root:2022-08-06 06:27:47.679456 - All files saved successfully\n"
          ]
        }
      ]
    }
  ]
}